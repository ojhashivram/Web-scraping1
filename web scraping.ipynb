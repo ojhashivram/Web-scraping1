{
 "cells": [
  {
   "cell_type": "code",
   "execution_count": 28,
   "id": "0fd96b09",
   "metadata": {},
   "outputs": [
    {
     "ename": "IndexError",
     "evalue": "list index out of range",
     "output_type": "error",
     "traceback": [
      "\u001b[1;31m---------------------------------------------------------------------------\u001b[0m",
      "\u001b[1;31mIndexError\u001b[0m                                Traceback (most recent call last)",
      "Input \u001b[1;32mIn [28]\u001b[0m, in \u001b[0;36m<cell line: 51>\u001b[1;34m()\u001b[0m\n\u001b[0;32m     47\u001b[0m         \u001b[38;5;66;03m# print(linkText)\u001b[39;00m\n\u001b[0;32m     49\u001b[0m navbarSupportedContent \u001b[38;5;241m=\u001b[39m soup\u001b[38;5;241m.\u001b[39mfind(\u001b[38;5;28mid\u001b[39m\u001b[38;5;241m=\u001b[39m\u001b[38;5;124m'\u001b[39m\u001b[38;5;124mnavbarSupportedContent\u001b[39m\u001b[38;5;124m'\u001b[39m)\n\u001b[1;32m---> 51\u001b[0m elem \u001b[38;5;241m=\u001b[39m \u001b[43msoup\u001b[49m\u001b[38;5;241;43m.\u001b[39;49m\u001b[43mselect\u001b[49m\u001b[43m(\u001b[49m\u001b[38;5;124;43m'\u001b[39;49m\u001b[38;5;124;43m#loginModal\u001b[39;49m\u001b[38;5;124;43m'\u001b[39;49m\u001b[43m)\u001b[49m\u001b[43m[\u001b[49m\u001b[38;5;241;43m0\u001b[39;49m\u001b[43m]\u001b[49m \n\u001b[0;32m     52\u001b[0m \u001b[38;5;28mprint\u001b[39m(elem)\n",
      "\u001b[1;31mIndexError\u001b[0m: list index out of range"
     ]
    }
   ],
   "source": [
    "# Step 0: Install all the requirements\n",
    "# pip install requests\n",
    "# pip install bs4\n",
    "# pip install html5lib\n",
    "\n",
    "import requests\n",
    "from bs4 import BeautifulSoup\n",
    "url = \"https://github.com/Taiyo-ai/ts-mesh-pipeline\"\n",
    "\n",
    "# Step 1: Get the HTML\n",
    "r = requests.get(url)\n",
    "htmlContent = r.content\n",
    "# print(htmlContent)\n",
    "\n",
    "# Step 2: Parse the HTML\n",
    "soup = BeautifulSoup(htmlContent, 'html.parser')\n",
    "# print(soup.prettify)\n",
    "\n",
    "# Step 3: HTML Tree traversal\n",
    "# \n",
    "# Commonly used types of objects:\n",
    "# print(type(title)) # 1. Tag\n",
    "# print(type(title.string)) # 2. NavigableString\n",
    "# print(type(soup)) # 3. BeautifulSoup\n",
    "# # 4. Comment\n",
    "# markup = \"<p><!-- this is a comment --></p>\"\n",
    "# soup2 = BeautifulSoup(markup)\n",
    "# print(type(soup2.p.string))\n",
    "\n",
    "\n",
    "# Get the title of the HTML page\n",
    "title = soup.title\n",
    "\n",
    "# Get all the paragraphs from the page\n",
    "paras = soup.find_all('p')\n",
    "# print(paras)\n",
    "\n",
    "\n",
    "# Get all the anchor tags from the page\n",
    "anchors = soup.find_all('a')\n",
    "all_links = set()\n",
    "# Get all the links on the page:\n",
    "for link in anchors:\n",
    "    if(link.get('href') != '#'): \n",
    "        linkText = \"https://github.com/Taiyo-ai/ts-mesh-pipeline\" +link.get('href')\n",
    "        all_links.add(link)\n",
    "        # print(linkText)\n",
    "\n",
    "navbarSupportedContent = soup.find(id='navbarSupportedContent')\n",
    "\n",
    "elem = soup.select('#loginModal')[0] \n",
    "print(elem)\n",
    "\n"
   ]
  },
  {
   "cell_type": "code",
   "execution_count": null,
   "id": "4763382c",
   "metadata": {},
   "outputs": [],
   "source": []
  }
 ],
 "metadata": {
  "kernelspec": {
   "display_name": "Python 3 (ipykernel)",
   "language": "python",
   "name": "python3"
  },
  "language_info": {
   "codemirror_mode": {
    "name": "ipython",
    "version": 3
   },
   "file_extension": ".py",
   "mimetype": "text/x-python",
   "name": "python",
   "nbconvert_exporter": "python",
   "pygments_lexer": "ipython3",
   "version": "3.10.6"
  }
 },
 "nbformat": 4,
 "nbformat_minor": 5
}
